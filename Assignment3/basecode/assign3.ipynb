{
 "cells": [
  {
   "cell_type": "code",
   "execution_count": 4,
   "id": "e3609259-9bef-4358-a410-f2b61e147c1e",
   "metadata": {},
   "outputs": [
    {
     "name": "stdout",
     "output_type": "stream",
     "text": [
      "Training Time MLR: 28.87 seconds\n",
      "\n",
      "Training set Accuracy:93.108%\n",
      "Validation set Accuracy:92.36999999999999%\n",
      "Testing set Accuracy:92.53%\n",
      "\n",
      "Total Time MLR: 29.09 seconds\n"
     ]
    }
   ],
   "source": [
    "# %load script.py\n",
    "import numpy as np\n",
    "from scipy.io import loadmat\n",
    "from scipy.optimize import minimize\n",
    "from sklearn import svm\n",
    "import matplotlib.pyplot as plt\n",
    "\n",
    "from scipy.special import softmax\n",
    "import time\n",
    "\n",
    "def preprocess():\n",
    "    \"\"\" \n",
    "     Input:\n",
    "     Although this function doesn't have any input, you are required to load\n",
    "     the MNIST data set from file 'mnist_all.mat'.\n",
    "\n",
    "     Output:\n",
    "     train_data: matrix of training set. Each row of train_data contains \n",
    "       feature vector of a image\n",
    "     train_label: vector of label corresponding to each image in the training\n",
    "       set\n",
    "     validation_data: matrix of training set. Each row of validation_data \n",
    "       contains feature vector of a image\n",
    "     validation_label: vector of label corresponding to each image in the \n",
    "       training set\n",
    "     test_data: matrix of training set. Each row of test_data contains \n",
    "       feature vector of a image\n",
    "     test_label: vector of label corresponding to each image in the testing\n",
    "       set\n",
    "    \"\"\"\n",
    "\n",
    "    mat = loadmat('mnist_all.mat')  # loads the MAT object as a Dictionary\n",
    "\n",
    "    n_feature = mat.get(\"train1\").shape[1]\n",
    "    n_sample = 0\n",
    "    for i in range(10):\n",
    "        n_sample = n_sample + mat.get(\"train\" + str(i)).shape[0]\n",
    "    n_validation = 1000\n",
    "    n_train = n_sample - 10 * n_validation\n",
    "\n",
    "    # Construct validation data\n",
    "    validation_data = np.zeros((10 * n_validation, n_feature))\n",
    "    for i in range(10):\n",
    "        validation_data[i * n_validation:(i + 1) * n_validation, :] = mat.get(\"train\" + str(i))[0:n_validation, :]\n",
    "\n",
    "    # Construct validation label\n",
    "    validation_label = np.ones((10 * n_validation, 1))\n",
    "    for i in range(10):\n",
    "        validation_label[i * n_validation:(i + 1) * n_validation, :] = i * np.ones((n_validation, 1))\n",
    "\n",
    "    # Construct training data and label\n",
    "    train_data = np.zeros((n_train, n_feature))\n",
    "    train_label = np.zeros((n_train, 1))\n",
    "    temp = 0\n",
    "    for i in range(10):\n",
    "        size_i = mat.get(\"train\" + str(i)).shape[0]\n",
    "        train_data[temp:temp + size_i - n_validation, :] = mat.get(\"train\" + str(i))[n_validation:size_i, :]\n",
    "        train_label[temp:temp + size_i - n_validation, :] = i * np.ones((size_i - n_validation, 1))\n",
    "        temp = temp + size_i - n_validation\n",
    "\n",
    "    # Construct test data and label\n",
    "    n_test = 0\n",
    "    for i in range(10):\n",
    "        n_test = n_test + mat.get(\"test\" + str(i)).shape[0]\n",
    "    test_data = np.zeros((n_test, n_feature))\n",
    "    test_label = np.zeros((n_test, 1))\n",
    "    temp = 0\n",
    "    for i in range(10):\n",
    "        size_i = mat.get(\"test\" + str(i)).shape[0]\n",
    "        test_data[temp:temp + size_i, :] = mat.get(\"test\" + str(i))\n",
    "        test_label[temp:temp + size_i, :] = i * np.ones((size_i, 1))\n",
    "        temp = temp + size_i\n",
    "\n",
    "    # Delete features which don't provide any useful information for classifiers\n",
    "    sigma = np.std(train_data, axis=0)\n",
    "    index = np.array([])\n",
    "    for i in range(n_feature):\n",
    "        if (sigma[i] > 0.001):\n",
    "            index = np.append(index, [i])\n",
    "    train_data = train_data[:, index.astype(int)]\n",
    "    validation_data = validation_data[:, index.astype(int)]\n",
    "    test_data = test_data[:, index.astype(int)]\n",
    "\n",
    "    # Scale data to 0 and 1\n",
    "    train_data /= 255.0\n",
    "    validation_data /= 255.0\n",
    "    test_data /= 255.0\n",
    "\n",
    "    return train_data, train_label, validation_data, validation_label, test_data, test_label\n",
    "\n",
    "\n",
    "def sigmoid(z):\n",
    "    return 1.0 / (1.0 + np.exp(-z))\n",
    "\n",
    "\n",
    "def blrObjFunction(initialWeights, *args):\n",
    "    \"\"\"\n",
    "    blrObjFunction computes 2-class Logistic Regression error function and\n",
    "    its gradient.\n",
    "\n",
    "    Input:\n",
    "        initialWeights: the weight vector (w_k) of size (D + 1) x 1 \n",
    "        train_data: the data matrix of size N x D\n",
    "        labeli: the label vector (y_k) of size N x 1 where each entry can be either 0 or 1 representing the label of corresponding feature vector\n",
    "\n",
    "    Output: \n",
    "        error: the scalar value of error function of 2-class logistic regression\n",
    "        error_grad: the vector of size (D+1) x 1 representing the gradient of\n",
    "                    error function\n",
    "    \"\"\"\n",
    "    train_data, labeli = args\n",
    "    n_data = train_data.shape[0]\n",
    "    n_features = train_data.shape[1]\n",
    "    error = 0\n",
    "    error_grad = np.zeros((n_features + 1, 1))\n",
    "\n",
    "    ##################\n",
    "    # YOUR CODE HERE #\n",
    "    ##################\n",
    "    # HINT: Do not forget to add the bias term to your input data\n",
    "    if(debug): print(f'train_data shape: {train_data.shape}')\n",
    "    if(debug): print(f'w shape: {initialWeights.shape}')\n",
    "    train_data_bias = np.column_stack((np.ones((n_data, 1)), train_data))\n",
    "    if(debug): print(f'train_data_bias shape: {train_data.shape}')\n",
    "    \n",
    "    theta_n = sigmoid(np.matmul(train_data_bias, np.matrix(initialWeights).T))\n",
    "    if(debug): print(f'theta_n shape: {theta_n.shape}')\n",
    "    error = (-1/n_data) * np.sum(np.multiply(labeli, np.log(theta_n)) + np.multiply((1 - labeli), np.log(1 - theta_n)))\n",
    "    if(debug): print(f'error: {error}')\n",
    "    \n",
    "    error_grad = (1/n_data) * (np.sum(np.multiply((theta_n - labeli), train_data_bias), axis = 0)).T\n",
    "    error_grad = np.asarray(error_grad).flatten()\n",
    "    if(debug): print(f'error_grad shape: {error_grad.shape}')\n",
    "\n",
    "    return error, error_grad\n",
    "\n",
    "\n",
    "def blrPredict(W, data):\n",
    "    \"\"\"\n",
    "     blrObjFunction predicts the label of data given the data and parameter W \n",
    "     of Logistic Regression\n",
    "     \n",
    "     Input:\n",
    "         W: the matrix of weight of size (D + 1) x 10. Each column is the weight \n",
    "         vector of a Logistic Regression classifier.\n",
    "         X: the data matrix of size N x D\n",
    "         \n",
    "     Output: \n",
    "         label: vector of size N x 1 representing the predicted label of \n",
    "         corresponding feature vector given in data matrix\n",
    "\n",
    "    \"\"\"\n",
    "    label = np.zeros((data.shape[0], 1))\n",
    "    \n",
    "    ##################\n",
    "    # YOUR CODE HERE #\n",
    "    ##################\n",
    "    # HINT: Do not forget to add the bias term to your input data\n",
    "    data_bias = np.column_stack(((np.ones((data.shape[0], 1))), data))\n",
    "    label = np.argmax(sigmoid(np.matmul(data_bias, W)), axis = 1)\n",
    "    label = np.matrix(label).T\n",
    "    \n",
    "    return label\n",
    "\n",
    "def mlrObjFunction(params, *args):\n",
    "    \"\"\"\n",
    "    mlrObjFunction computes multi-class Logistic Regression error function and\n",
    "    its gradient.\n",
    "\n",
    "    Input:\n",
    "        initialWeights_b: the weight vector of size (D + 1) x 10\n",
    "        train_data: the data matrix of size N x D\n",
    "        labeli: the label vector of size N x 10 where each entry can be either 0 or 1\n",
    "                representing the label of corresponding feature vector\n",
    "\n",
    "    Output:\n",
    "        error: the scalar value of error function of multi-class logistic regression\n",
    "        error_grad: the vector of size (D+1) x 10 representing the gradient of\n",
    "                    error function\n",
    "    \"\"\"\n",
    "    train_data, labeli = args\n",
    "    n_data = train_data.shape[0]\n",
    "    n_feature = train_data.shape[1]\n",
    "    error = 0\n",
    "    error_grad = np.zeros((n_feature + 1, n_class))\n",
    "\n",
    "    ##################\n",
    "    # YOUR CODE HERE #\n",
    "    ##################\n",
    "    # HINT: Do not forget to add the bias term to your input data\n",
    "    \n",
    "    initialWeights = params.reshape((n_feature+1, n_class))\n",
    "    # print(f\"initialWeights: {initialWeights}\")\n",
    "    if(debug): print(f'params type: {type(params)}')\n",
    "    if(debug): print(f'params shape: {params.shape}')\n",
    "    if(debug): print(f'train_data shape: {train_data.shape}')\n",
    "    if(debug): print(f'w shape: {initialWeights.shape}')\n",
    "    train_data_bias = np.column_stack((np.ones((n_data, 1)), train_data))\n",
    "    if(debug): print(f'train_data_bias shape: {train_data.shape}')\n",
    "    \n",
    "    # theta_nk = softmax(np.matmul(train_data_bias, initialWeights), axis=1)\n",
    "    #Softmax function\n",
    "    num = np.exp(np.matmul(train_data_bias, initialWeights))\n",
    "    if(debug): print(f'num shape: {num.shape}')\n",
    "    dem = np.sum(num, axis = 1)\n",
    "    if(debug): print(f'dem shape: {dem.shape}')\n",
    "    theta_nk = np.divide(num, dem.reshape((dem.shape[0], 1)))\n",
    "    if(debug): print(f'theta_nk shape: {theta_nk.shape}')\n",
    "    error = -1*np.sum(np.multiply(labeli, np.log(theta_nk)))\n",
    "    if(debug): print(f'error: {error}')\n",
    "   \n",
    "    error_grad = np.matmul((theta_nk - labeli).T, train_data_bias).T\n",
    "    # error_grad = np.matmul(train_data_bias.T, (theta_nk - labeli))\n",
    "        \n",
    "    error_grad = error_grad.flatten()\n",
    "    # if(debug): print(f'error grad type: {type(error_grad)}')\n",
    "    # if(debug): print(f'error shape: {error_grad.shape}')\n",
    "    \n",
    "    return error, error_grad\n",
    "\n",
    "\n",
    "def mlrPredict(W, data):\n",
    "    \"\"\"\n",
    "     mlrObjFunction predicts the label of data given the data and parameter W\n",
    "     of Logistic Regression\n",
    "\n",
    "     Input:\n",
    "         W: the matrix of weight of size (D + 1) x 10. Each column is the weight\n",
    "         vector of a Logistic Regression classifier.\n",
    "         X: the data matrix of size N x D\n",
    "\n",
    "     Output:\n",
    "         label: vector of size N x 1 representing the predicted label of\n",
    "         corresponding feature vector given in data matrix\n",
    "\n",
    "    \"\"\"\n",
    "    label = np.zeros((data.shape[0], 1))\n",
    "   \n",
    "    ##################\n",
    "    # YOUR CODE HERE #\n",
    "    ##################\n",
    "    # HINT: Do not forget to add the bias term to your input data\n",
    "    data_bias = np.column_stack((np.ones((data.shape[0], 1)), data))\n",
    "    # pred = softmax(np.matmul(data_bias, W), axis=1)\n",
    "    #Softmax function\n",
    "    num = np.exp(np.matmul(data_bias, W))\n",
    "    if(debug): print(f'num shape: {num.shape}')\n",
    "    dem = np.sum(num, axis = 1)\n",
    "    if(debug): print(f'dem shape: {dem.shape}')\n",
    "    theta_nk = np.divide(num, dem.reshape((dem.shape[0], 1)))\n",
    "    label = np.argmax(theta_nk, axis = 1)\n",
    "    label = np.matrix(label).T\n",
    "\n",
    "    return label\n",
    "\n",
    "\n",
    "\"\"\"\n",
    "Script for Logistic Regression\n",
    "\"\"\"\n",
    "start_time = time.time()\n",
    "debug = False\n",
    "\n",
    "train_data, train_label, validation_data, validation_label, test_data, test_label = preprocess()\n",
    "\n",
    "# number of classes\n",
    "n_class = 10\n",
    "\n",
    "# number of training samples\n",
    "n_train = train_data.shape[0]\n",
    "\n",
    "# number of features\n",
    "n_feature = train_data.shape[1]\n",
    "\n",
    "Y = np.zeros((n_train, n_class))\n",
    "for i in range(n_class):\n",
    "    Y[:, i] = (train_label == i).astype(int).ravel()\n",
    "\n",
    "# # Logistic Regression with Gradient Descent\n",
    "# W = np.zeros((n_feature + 1, n_class))\n",
    "# initialWeights = np.zeros((n_feature + 1, 1))\n",
    "# opts = {'maxiter': 100}\n",
    "# for i in range(n_class):\n",
    "#     print(f\"\\n|||||NEW {i}||||||||\")\n",
    "#     labeli = Y[:, i].reshape(n_train, 1)\n",
    "#     args = (train_data, labeli)\n",
    "#     nn_params = minimize(blrObjFunction, initialWeights, jac=True, args=args, method='CG', options=opts)\n",
    "#     W[:, i] = nn_params.x.reshape((n_feature + 1,))\n",
    "# print(\"Training Time BLR: %.2f seconds\" % (time.time() - start_time))\n",
    "    \n",
    "# # Find the accuracy on Training Dataset\n",
    "# predicted_label = blrPredict(W, train_data)\n",
    "# print('\\n Training set Accuracy:' + str(100 * np.mean((predicted_label == train_label).astype(float))) + '%')\n",
    "\n",
    "# # Find the accuracy on Validation Dataset\n",
    "# predicted_label2 = blrPredict(W, validation_data)\n",
    "# print('\\n Validation set Accuracy:' + str(100 * np.mean((predicted_label2 == validation_label).astype(float))) + '%')\n",
    "\n",
    "# # Find the accuracy on Testing Dataset\n",
    "# predicted_label3 = blrPredict(W, test_data)\n",
    "# print('\\n Testing set Accuracy:' + str(100 * np.mean((predicted_label3 == test_label).astype(float))) + '%')\n",
    "# print(\"Total Time BLR: %.2f seconds\" % (time.time() - start_time))\n",
    "# \"\"\"\n",
    "# Script for Support Vector Machine\n",
    "# \"\"\"\n",
    "\n",
    "# print('\\n\\n--------------SVM-------------------\\n\\n')\n",
    "##################\n",
    "# YOUR CODE HERE #\n",
    "##################\n",
    "\n",
    "\n",
    "# \"\"\"\n",
    "# Script for Extra Credit Part\n",
    "# \"\"\"\n",
    "# FOR EXTRA CREDIT ONLY\n",
    "start_time = time.time()\n",
    "W_b = np.zeros((n_feature + 1, n_class))\n",
    "initialWeights_b = np.zeros((n_feature + 1, n_class))\n",
    "opts_b = {'maxiter': 100}\n",
    "\n",
    "args_b = (train_data, Y)\n",
    "nn_params = minimize(mlrObjFunction, initialWeights_b, jac=True, args=args_b, method='CG', options=opts_b)\n",
    "W_b = nn_params.x.reshape((n_feature + 1, n_class))\n",
    "print(\"Training Time MLR: %.2f seconds\" % (time.time() - start_time))\n",
    "# Find the accuracy on Training Dataset\n",
    "predicted_label_b = mlrPredict(W_b, train_data)\n",
    "print('\\nTraining set Accuracy:' + str(100 * np.mean((predicted_label_b == train_label).astype(float))) + '%')\n",
    "\n",
    "# Find the accuracy on Validation Dataset\n",
    "predicted_label_b2 = mlrPredict(W_b, validation_data)\n",
    "print('Validation set Accuracy:' + str(100 * np.mean((predicted_label_b2 == validation_label).astype(float))) + '%')\n",
    "\n",
    "# Find the accuracy on Testing Dataset\n",
    "predicted_label_b3 = mlrPredict(W_b, test_data)\n",
    "print('Testing set Accuracy:' + str(100 * np.mean((predicted_label_b3 == test_label).astype(float))) + '%')\n",
    "print(\"\\nTotal Time MLR: %.2f seconds\" % (time.time() - start_time))"
   ]
  },
  {
   "cell_type": "code",
   "execution_count": 7,
   "id": "e1eebd78-3a30-457e-a2a4-69c0cf758638",
   "metadata": {},
   "outputs": [
    {
     "name": "stdout",
     "output_type": "stream",
     "text": [
      "\n",
      "\n",
      "\n"
     ]
    },
    {
     "data": {
      "image/png": "[encoded data removed]",
      "text/plain": [
       "<Figure size 432x288 with 1 Axes>"
      ]
     },
     "metadata": {
      "needs_background": "light"
     },
     "output_type": "display_data"
    },
    {
     "name": "stdout",
     "output_type": "stream",
     "text": [
      "Truth label: 8, Predicated Label: 5\n"
     ]
    },
    {
     "data": {
      "image/png": "[encoded data removed]",
      "text/plain": [
       "<Figure size 432x288 with 1 Axes>"
      ]
     },
     "metadata": {
      "needs_background": "light"
     },
     "output_type": "display_data"
    },
    {
     "name": "stdout",
     "output_type": "stream",
     "text": [
      "Truth label: 8, Predicated Label: 7\n"
     ]
    },
    {
     "data": {
      "image/png": "[encoded data removed]",
      "text/plain": [
       "<Figure size 432x288 with 1 Axes>"
      ]
     },
     "metadata": {
      "needs_background": "light"
     },
     "output_type": "display_data"
    },
    {
     "name": "stdout",
     "output_type": "stream",
     "text": [
      "Truth label: 2, Predicated Label: 8\n"
     ]
    },
    {
     "data": {
      "image/png": "[encoded data removed]",
      "text/plain": [
       "<Figure size 432x288 with 1 Axes>"
      ]
     },
     "metadata": {
      "needs_background": "light"
     },
     "output_type": "display_data"
    },
    {
     "name": "stdout",
     "output_type": "stream",
     "text": [
      "Truth label: 3, Predicated Label: 2\n",
      "\n",
      "\n",
      "\n"
     ]
    },
    {
     "data": {
      "image/png": "[encoded data removed]",
      "text/plain": [
       "<Figure size 432x288 with 1 Axes>"
      ]
     },
     "metadata": {
      "needs_background": "light"
     },
     "output_type": "display_data"
    },
    {
     "name": "stdout",
     "output_type": "stream",
     "text": [
      "Truth label: 7, Predicated Label: 1\n"
     ]
    },
    {
     "data": {
      "image/png": "[encoded data removed]",
      "text/plain": [
       "<Figure size 432x288 with 1 Axes>"
      ]
     },
     "metadata": {
      "needs_background": "light"
     },
     "output_type": "display_data"
    },
    {
     "name": "stdout",
     "output_type": "stream",
     "text": [
      "Truth label: 9, Predicated Label: 4\n"
     ]
    },
    {
     "data": {
      "image/png": "[encoded data removed]",
      "text/plain": [
       "<Figure size 432x288 with 1 Axes>"
      ]
     },
     "metadata": {
      "needs_background": "light"
     },
     "output_type": "display_data"
    },
    {
     "name": "stdout",
     "output_type": "stream",
     "text": [
      "Truth label: 8, Predicated Label: 3\n"
     ]
    },
    {
     "data": {
      "image/png": "[encoded data removed]",
      "text/plain": [
       "<Figure size 432x288 with 1 Axes>"
      ]
     },
     "metadata": {
      "needs_background": "light"
     },
     "output_type": "display_data"
    },
    {
     "name": "stdout",
     "output_type": "stream",
     "text": [
      "Truth label: 8, Predicated Label: 3\n"
     ]
    }
   ],
   "source": [
    "error_indices = []\n",
    "for i in range(10000):\n",
    "    if(predicted_label_b3[i] != test_label[i]):\n",
    "        error_indices.append(i)\n",
    "random_indices = np.random.choice(error_indices, size=8)    \n",
    "\n",
    "for index, i in enumerate(random_indices):\n",
    "    if(index%4==0): print(\"\\n\\n\")\n",
    "    plt.gray()\n",
    "    plt.imshow(test_data[i].reshape((13,55)))\n",
    "    plt.show()\n",
    "    print(f\"Truth label: {test_label[i][0].astype(int)}, Predicated Label: {np.asarray(predicted_label_b3[i])[0][0]}\")"
   ]
  },
  {
   "cell_type": "code",
   "execution_count": null,
   "id": "3e74d481-19d2-42e9-ae1a-5115fa402eee",
   "metadata": {},
   "outputs": [],
   "source": [
    "# wrong_indices_train = []\n",
    "# for i in ((predicted_label == train_label).astype(float)):\n",
    "#     if(i == 0):\n",
    "#         wrong_indices_train.append(i)\n",
    "# print(f\"train: {len(wrong_indices_train)}\")\n",
    "\n",
    "# wrong_indices_valid = []\n",
    "# for i in ((predicted_label2 == validation_label).astype(float)):\n",
    "#     if(i == 0):\n",
    "#         wrong_indices_valid.append(i)\n",
    "# print(f\"valid: {len(wrong_indices_valid)}\")\n",
    "\n",
    "# wrong_indices_test = []\n",
    "# for i in ((predicted_label3 == test_label).astype(float)):\n",
    "#     if(i == 0):\n",
    "#         wrong_indices_test.append(i)\n",
    "# print(f\"test: {len(wrong_indices_test)}\")\n",
    "\n",
    "wrong_label_train = []\n",
    "right_label_train = []\n",
    "for i in (range(50000)):\n",
    "    if(predicted_label_b[i] != train_label[i]):\n",
    "        wrong_label_train.append(train_label[i])\n",
    "    else:\n",
    "        right_label_train.append(train_label[i])\n",
    "(unique, counts) = np.unique(np.array(wrong_label_train), return_counts=True)\n",
    "print(f\"             {[*range(10)]}\")\n",
    "print(f\"train wrong: {counts}\")\n",
    "(unique, counts2) = np.unique(np.array(right_label_train), return_counts=True)\n",
    "print(f\"train right: {counts2}\")\n",
    "print(f\"train total: {counts+counts2}\")\n",
    "\n",
    "wrong_label_test = []\n",
    "right_label_test = []\n",
    "for i in (range(10000)):\n",
    "    if(predicted_label_b3[i] != test_label[i]):\n",
    "        wrong_label_test.append(test_label[i])\n",
    "    else:\n",
    "        right_label_test.append(test_label[i])\n",
    "(unique, counts3) = np.unique(np.array(wrong_label_test), return_counts=True)\n",
    "print(f\"\\ntest wrong: {counts3}\")\n",
    "(unique, counts4) = np.unique(np.array(right_label_test), return_counts=True)\n",
    "print(f\"test right: {counts4}\")\n",
    "print(f\"test total: {counts3+counts4}\")\n"
   ]
  },
  {
   "cell_type": "code",
   "execution_count": null,
   "id": "678a3542-0411-4a93-8967-3db676f8475a",
   "metadata": {},
   "outputs": [],
   "source": [
    "import pickle\n",
    "pickle.dump(W, open( \"weights.p\", \"wb\" ))"
   ]
  },
  {
   "cell_type": "code",
   "execution_count": null,
   "id": "a9f17214-7a82-455e-926b-5f2c6f762592",
   "metadata": {},
   "outputs": [],
   "source": [
    "import pickle\n",
    "with open(r\"weights.p\", \"rb\") as input_file:\n",
    "    W = pickle.load(input_file)\n",
    "    \n",
    "train_data, train_label, validation_data, validation_label, test_data, test_label = preprocess()\n",
    "\n",
    "# Find the accuracy on Training Dataset\n",
    "predicted_label = blrPredict(W, train_data)\n",
    "print('\\n Training set Accuracy:' + str(100 * np.mean((predicted_label == train_label).astype(float))) + '%')\n",
    "\n",
    "# Find the accuracy on Validation Dataset\n",
    "predicted_label2 = blrPredict(W, validation_data)\n",
    "print('\\n Validation set Accuracy:' + str(100 * np.mean((predicted_label2 == validation_label).astype(float))) + '%')\n",
    "\n",
    "# Find the accuracy on Testing Dataset\n",
    "predicted_label3 = blrPredict(W, test_data)\n",
    "print('\\n Testing set Accuracy:' + str(100 * np.mean((predicted_label3 == test_label).astype(float))) + '%')\n"
   ]
  },
  {
   "cell_type": "code",
   "execution_count": null,
   "id": "d889f7dd-d6cd-463d-ae84-4ed7475fc8a3",
   "metadata": {},
   "outputs": [],
   "source": [
    "error_indices = []\n",
    "for i in range(10000):\n",
    "    if(predicted_label3[i] != test_label[i]):\n",
    "        error_indices.append(i)\n",
    "random_indices = np.random.choice(error_indices, size=8)    \n",
    "\n",
    "for index, i in enumerate(random_indices):\n",
    "    if(index%4==0): print(\"\\n\\n\")\n",
    "    plt.gray()\n",
    "    plt.imshow(test_data[i].reshape((13,55)))\n",
    "    plt.show()\n",
    "    print(f\"Truth label: {test_label[i][0].astype(int)}, Predicated Label: {np.asarray(predicted_label3[i])[0][0]}\")\n",
    "   "
   ]
  },
  {
   "cell_type": "code",
   "execution_count": null,
   "id": "aacdbd86-ade0-4cf6-a8d9-5551c7fb72a6",
   "metadata": {},
   "outputs": [],
   "source": [
    "n_test = test_data.shape[0]\n",
    "Y2 = np.zeros((n_test, n_class))\n",
    "for i in range(n_class):\n",
    "    Y2[:, i] = (test_label == i).astype(int).ravel()"
   ]
  }
 ],
 "metadata": {
  "kernelspec": {
   "display_name": "Python 3 (ipykernel)",
   "language": "python",
   "name": "python3"
  },
  "language_info": {
   "codemirror_mode": {
    "name": "ipython",
    "version": 3
   },
   "file_extension": ".py",
   "mimetype": "text/x-python",
   "name": "python",
   "nbconvert_exporter": "python",
   "pygments_lexer": "ipython3",
   "version": "3.9.7"
  }
 },
 "nbformat": 4,
 "nbformat_minor": 5
}
