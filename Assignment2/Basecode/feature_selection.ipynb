{
 "cells": [
  {
   "cell_type": "code",
   "execution_count": 11,
   "id": "5e1b4e0f-8e6a-43d9-a340-f18482062df6",
   "metadata": {},
   "outputs": [],
   "source": [
    "import numpy as np\n",
    "from scipy.optimize import minimize\n",
    "from scipy.io import loadmat\n",
    "from math import sqrt\n",
    "\n",
    "import matplotlib.pyplot as plt\n",
    "import time"
   ]
  },
  {
   "cell_type": "code",
   "execution_count": 12,
   "id": "f2a26655-2699-4a6f-8746-9054ea6232a8",
   "metadata": {},
   "outputs": [],
   "source": [
    "mat = loadmat('mnist_all.mat')"
   ]
  },
  {
   "cell_type": "code",
   "execution_count": 21,
   "id": "c6fccf37-fe2d-4378-8a4d-5c2c0c0d4d01",
   "metadata": {},
   "outputs": [
    {
     "name": "stdout",
     "output_type": "stream",
     "text": [
      ">> 0.06 seconds\n"
     ]
    }
   ],
   "source": [
    "start_time = time.time()\n",
    "merged_train_data = []\n",
    "merged_train_label = []\n",
    "merged_test_data = []\n",
    "merged_test_label = []\n",
    "for key in mat.keys():\n",
    "    if(\"train\" in key):\n",
    "        merged_train_data.append(mat[key])\n",
    "        merged_train_label.append(np.full((len(mat[key]), 1), key))\n",
    "    if(\"test\" in key):\n",
    "        merged_test_data.append(mat[key])\n",
    "        merged_test_label.append(np.full((len(mat[key]), 1), key))\n",
    "\n",
    "#converting list of arrays to NDarray\n",
    "merged_train_data = np.vstack(merged_train_data)\n",
    "merged_train_label = np.vstack(merged_train_label)\n",
    "test_data = np.vstack(merged_test_data)\n",
    "test_label = np.vstack(merged_test_label)\n",
    "\n",
    "column_indices = []\n",
    "for i in range(784):\n",
    "    if(i <= 84 or i>= 700):\n",
    "        column_indices.append(i)\n",
    "    if(i % 28 == 0):\n",
    "        for j in range(i, i+4):\n",
    "            column_indices.append(j)\n",
    "\n",
    "arr = np.array(range(784)).reshape(28,28)\n",
    "right_index=[]\n",
    "for i in arr:\n",
    "    for j in range(4):\n",
    "        column_indices.append(i[-4]+j)\n",
    "\n",
    "merged_train_data =  np.delete(merged_train_data, column_indices, axis = 1)\n",
    "\n",
    "print(\">> %.2f seconds\" % (time.time() - start_time))"
   ]
  },
  {
   "cell_type": "code",
   "execution_count": 25,
   "id": "edce217c-2e03-4bf7-906e-a578ab9c4f3a",
   "metadata": {},
   "outputs": [
    {
     "data": {
      "text/plain": [
       "<matplotlib.image.AxesImage at 0x18c432217c0>"
      ]
     },
     "execution_count": 25,
     "metadata": {},
     "output_type": "execute_result"
    },
    {
     "data": {
      "image/png": "[encoded data removed]",
      "text/plain": [
       "<Figure size 432x288 with 1 Axes>"
      ]
     },
     "metadata": {
      "needs_background": "light"
     },
     "output_type": "display_data"
    }
   ],
   "source": [
    "# image_cloumn.reshape((28,28))\n",
    "# summed_data = cropped_merged_train_data.sum(axis=0)\n",
    "summed_data = merged_train_data[150]\n",
    "plt.gray()\n",
    "plt.imshow(summed_data.reshape((22,20)))"
   ]
  },
  {
   "cell_type": "code",
   "execution_count": null,
   "id": "d688f069-fb6d-43b3-81b3-525139f3a1c6",
   "metadata": {},
   "outputs": [],
   "source": []
  }
 ],
 "metadata": {
  "kernelspec": {
   "display_name": "Python 3 (ipykernel)",
   "language": "python",
   "name": "python3"
  },
  "language_info": {
   "codemirror_mode": {
    "name": "ipython",
    "version": 3
   },
   "file_extension": ".py",
   "mimetype": "text/x-python",
   "name": "python",
   "nbconvert_exporter": "python",
   "pygments_lexer": "ipython3",
   "version": "3.9.7"
  }
 },
 "nbformat": 4,
 "nbformat_minor": 5
}
