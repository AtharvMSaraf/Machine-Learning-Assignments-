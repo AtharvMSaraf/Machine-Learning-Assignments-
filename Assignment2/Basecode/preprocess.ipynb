{
 "cells": [
  {
   "cell_type": "code",
   "execution_count": 5,
   "id": "53a4980b-adae-4f93-a1ed-801cf9e5643e",
   "metadata": {},
   "outputs": [],
   "source": [
    "import numpy as np\n",
    "from scipy.optimize import minimize\n",
    "from scipy.io import loadmat\n",
    "from math import sqrt\n",
    "\n",
    "import matplotlib.pyplot as plt\n",
    "import time"
   ]
  },
  {
   "cell_type": "code",
   "execution_count": 6,
   "id": "66ebfba6-eef0-458c-ae7e-97c83bbf25b6",
   "metadata": {},
   "outputs": [],
   "source": [
    "mat = loadmat('mnist_all.mat')"
   ]
  },
  {
   "cell_type": "code",
   "execution_count": 7,
   "id": "702aed8e-9965-4366-a280-1850d43e7e78",
   "metadata": {},
   "outputs": [
    {
     "name": "stdout",
     "output_type": "stream",
     "text": [
      ">> 0.50 seconds\n"
     ]
    }
   ],
   "source": [
    "start_time = time.time()\n",
    "\n",
    "merged_train_data = []\n",
    "merged_train_label = []\n",
    "merged_test_data = []\n",
    "merged_test_label = []\n",
    "# yl = np.zeros((10,1))\n",
    "for key in mat.keys():\n",
    "    yl = np.zeros((10,1), dtype= np.uintc)\n",
    "    if(\"train\" in key):\n",
    "        merged_train_data.append(mat[key])\n",
    "        yl[int(key[-1])] = 1\n",
    "        merged_train_label.append(np.full((len(mat[key]), yl.shape[0]), yl.flatten()))\n",
    "    if(\"test\" in key):\n",
    "        merged_test_data.append(mat[key])\n",
    "        yl[int(key[-1])] = 1\n",
    "        merged_test_label.append(np.full((len(mat[key]), yl.shape[0]),  yl.flatten()))\n",
    "\n",
    "#converting list of arrays to NDarray\n",
    "merged_train_data = np.vstack(merged_train_data)\n",
    "merged_train_label = np.vstack(merged_train_label)\n",
    "test_data = np.vstack(merged_test_data)\n",
    "test_label = np.vstack(merged_test_label)\n",
    "\n",
    "#feature selection\n",
    "column_indices = []\n",
    "for i in range(784):\n",
    "    if(i <= 84 or i>= 700):\n",
    "        column_indices.append(i)\n",
    "    if(i % 28 == 0):\n",
    "        for j in range(i, i+4):\n",
    "            column_indices.append(j)\n",
    "\n",
    "arr = np.array(range(784)).reshape(28,28)\n",
    "right_index=[]\n",
    "for i in arr:\n",
    "    for j in range(4):\n",
    "        column_indices.append(i[-4]+j)\n",
    "\n",
    "#cropped data shape 22x20\n",
    "merged_train_data =  np.delete(merged_train_data, column_indices, axis = 1)\n",
    "test_data = np.delete(test_data, column_indices, axis = 1)\n",
    "\n",
    "#splitting data randomly\n",
    "train_data_height = merged_train_data.shape[0]\n",
    "train_data_width = merged_train_data.shape[1]\n",
    "random_indices = np.random.choice(range(train_data_height), 60000, replace=False)\n",
    "train_data = np.empty((50000, train_data_width))\n",
    "train_label = np.empty((50000, merged_train_label.shape[1]), dtype=np.uintc)\n",
    "validation_data = np.empty((10000, train_data_width))\n",
    "validation_label = np.empty((10000, merged_train_label.shape[1]), dtype=np.uintc)\n",
    "for index, randi in enumerate(random_indices[:50000]):\n",
    "    train_data[index] = merged_train_data[randi]\n",
    "    train_label[index] = merged_train_label[randi]\n",
    "for index, randi in enumerate(random_indices[50000:]):\n",
    "    validation_data[index] = merged_train_data[randi]\n",
    "    validation_label[index] = merged_train_label[randi]\n",
    "\n",
    "print(\">> %.2f seconds\" % (time.time() - start_time))"
   ]
  },
  {
   "cell_type": "code",
   "execution_count": 8,
   "id": "aaf8e278-63fa-4961-b06a-83932f36b4e2",
   "metadata": {},
   "outputs": [
    {
     "data": {
      "text/plain": [
       "<matplotlib.image.AxesImage at 0x218a1e0f250>"
      ]
     },
     "execution_count": 8,
     "metadata": {},
     "output_type": "execute_result"
    },
    {
     "data": {
      "image/png": "[encoded data removed]",
      "text/plain": [
       "<Figure size 432x288 with 1 Axes>"
      ]
     },
     "metadata": {
      "needs_background": "light"
     },
     "output_type": "display_data"
    }
   ],
   "source": [
    "train_data[0] = train_data[0]/255\n",
    "plt.gray()\n",
    "plt.imshow(train_data[0].reshape((22,20)))"
   ]
  },
  {
   "cell_type": "code",
   "execution_count": 9,
   "id": "473d194c-1b1f-429d-8b90-22aa9ab272e6",
   "metadata": {},
   "outputs": [
    {
     "data": {
      "text/plain": [
       "<matplotlib.image.AxesImage at 0x218a1cfdf40>"
      ]
     },
     "execution_count": 9,
     "metadata": {},
     "output_type": "execute_result"
    },
    {
     "data": {
      "image/png": "[encoded data removed]",
      "text/plain": [
       "<Figure size 432x288 with 1 Axes>"
      ]
     },
     "metadata": {
      "needs_background": "light"
     },
     "output_type": "display_data"
    }
   ],
   "source": [
    "plt.gray()\n",
    "plt.imshow(merged_train_data.sum(axis=0).reshape((22,20)))"
   ]
  },
  {
   "cell_type": "code",
   "execution_count": null,
   "id": "b885acc6-24f1-430a-8711-ae3d50ef8347",
   "metadata": {},
   "outputs": [],
   "source": []
  }
 ],
 "metadata": {
  "kernelspec": {
   "display_name": "Python 3 (ipykernel)",
   "language": "python",
   "name": "python3"
  },
  "language_info": {
   "codemirror_mode": {
    "name": "ipython",
    "version": 3
   },
   "file_extension": ".py",
   "mimetype": "text/x-python",
   "name": "python",
   "nbconvert_exporter": "python",
   "pygments_lexer": "ipython3",
   "version": "3.9.7"
  }
 },
 "nbformat": 4,
 "nbformat_minor": 5
}
