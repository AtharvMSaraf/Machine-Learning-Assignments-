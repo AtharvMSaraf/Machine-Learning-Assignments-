{
 "cells": [
  {
   "cell_type": "code",
   "execution_count": 9,
   "id": "2ec5c465-d9a5-4fbb-9ca3-cc6e79c9e645",
   "metadata": {},
   "outputs": [],
   "source": [
    "import numpy as np\n",
    "n1= np.random.rand(51, 50000)\n",
    "n2= np.random.rand(51, 441)"
   ]
  },
  {
   "cell_type": "code",
   "execution_count": 18,
   "id": "ea39f9a7-4180-4b54-82f5-881ed4bf0e47",
   "metadata": {},
   "outputs": [
    {
     "data": {
      "text/plain": [
       "(50000, 441)"
      ]
     },
     "execution_count": 18,
     "metadata": {},
     "output_type": "execute_result"
    }
   ],
   "source": [
    "np.matmul(n1.T,n2).shape"
   ]
  },
  {
   "cell_type": "code",
   "execution_count": 19,
   "id": "343efe68-439b-4eea-8af8-f80d854168d8",
   "metadata": {},
   "outputs": [
    {
     "ename": "ValueError",
     "evalue": "operands could not be broadcast together with shapes (50000,51) (51,441) ",
     "output_type": "error",
     "traceback": [
      "\u001b[1;31m---------------------------------------------------------------------------\u001b[0m",
      "\u001b[1;31mValueError\u001b[0m                                Traceback (most recent call last)",
      "\u001b[1;32mC:\\Users\\JAYPAR~1\\AppData\\Local\\Temp/ipykernel_4060/1239898551.py\u001b[0m in \u001b[0;36m<module>\u001b[1;34m\u001b[0m\n\u001b[1;32m----> 1\u001b[1;33m \u001b[1;33m(\u001b[0m\u001b[0mn1\u001b[0m\u001b[1;33m.\u001b[0m\u001b[0mT\u001b[0m\u001b[1;33m)\u001b[0m\u001b[1;33m*\u001b[0m\u001b[0mn2\u001b[0m\u001b[1;33m\u001b[0m\u001b[1;33m\u001b[0m\u001b[0m\n\u001b[0m",
      "\u001b[1;31mValueError\u001b[0m: operands could not be broadcast together with shapes (50000,51) (51,441) "
     ]
    }
   ],
   "source": []
  },
  {
   "cell_type": "code",
   "execution_count": null,
   "id": "0a77c6d2-d76d-4931-bc98-3da98ab73b42",
   "metadata": {},
   "outputs": [],
   "source": []
  }
 ],
 "metadata": {
  "kernelspec": {
   "display_name": "Python 3 (ipykernel)",
   "language": "python",
   "name": "python3"
  },
  "language_info": {
   "codemirror_mode": {
    "name": "ipython",
    "version": 3
   },
   "file_extension": ".py",
   "mimetype": "text/x-python",
   "name": "python",
   "nbconvert_exporter": "python",
   "pygments_lexer": "ipython3",
   "version": "3.9.7"
  }
 },
 "nbformat": 4,
 "nbformat_minor": 5
}
