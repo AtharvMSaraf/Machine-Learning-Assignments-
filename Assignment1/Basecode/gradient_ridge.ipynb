{
 "cells": [
  {
   "cell_type": "code",
   "execution_count": 1,
   "id": "c71b6689-27db-44fe-888b-4bdd1e2e0600",
   "metadata": {},
   "outputs": [],
   "source": [
    "import numpy as np\n",
    "from scipy.optimize import minimize\n",
    "from scipy.io import loadmat\n",
    "from numpy.linalg import det, inv\n",
    "from math import sqrt, pi\n",
    "import scipy.io\n",
    "import matplotlib.pyplot as plt\n",
    "import pickle\n",
    "import sys"
   ]
  },
  {
   "cell_type": "code",
   "execution_count": 2,
   "id": "94a8657e-d542-4d44-8638-8542a6977e46",
   "metadata": {},
   "outputs": [],
   "source": [
    "pickle_filename = \"diabetes.pickle\"\n",
    "with open(pickle_filename, 'rb') as file:  \n",
    "    sample = pickle.load(file, encoding='latin1')"
   ]
  },
  {
   "cell_type": "code",
   "execution_count": 5,
   "id": "0d49f101-ab6d-4b3c-9906-ebddb5f42b63",
   "metadata": {},
   "outputs": [],
   "source": [
    "X =  np.array(sample[0])\n",
    "y =  np.array(sample[1])\n",
    "\n",
    "X_train =  np.array(sample[2])\n",
    "y_train =  np.array(sample[3])\n",
    "\n",
    "lamda = 0.5\n",
    "\n",
    "w = np.matmul(inv(np.matmul(X.T, X) + np.multiply(lamda, np.identity(64))), np.matmul(X.T, y))\n",
    "\n",
    "error = np.dot((y - np.dot(X, w)).T, (y - np.dot(X, w)))"
   ]
  },
  {
   "cell_type": "code",
   "execution_count": 6,
   "id": "c9ee00a1-9311-496d-965a-64beb5b5ee5b",
   "metadata": {},
   "outputs": [
    {
     "data": {
      "text/plain": [
       "(1, 1)"
      ]
     },
     "execution_count": 6,
     "metadata": {},
     "output_type": "execute_result"
    }
   ],
   "source": [
    "error.shape"
   ]
  },
  {
   "cell_type": "code",
   "execution_count": 7,
   "id": "941e2688-82cc-423a-bf58-443f1126d6ad",
   "metadata": {},
   "outputs": [
    {
     "data": {
      "text/plain": [
       "(242, 64)"
      ]
     },
     "execution_count": 7,
     "metadata": {},
     "output_type": "execute_result"
    }
   ],
   "source": [
    "X.shape"
   ]
  },
  {
   "cell_type": "code",
   "execution_count": 8,
   "id": "f54ad4a3-b099-4d4b-a87f-d3c0b3afd6df",
   "metadata": {},
   "outputs": [
    {
     "data": {
      "text/plain": [
       "(242, 1)"
      ]
     },
     "execution_count": 8,
     "metadata": {},
     "output_type": "execute_result"
    }
   ],
   "source": [
    "y.shape"
   ]
  },
  {
   "cell_type": "code",
   "execution_count": 9,
   "id": "3979b43b-3f93-42a7-b7d6-c7a924ceb66b",
   "metadata": {},
   "outputs": [
    {
     "data": {
      "text/plain": [
       "(64, 1)"
      ]
     },
     "execution_count": 9,
     "metadata": {},
     "output_type": "execute_result"
    }
   ],
   "source": [
    "w.shape"
   ]
  },
  {
   "cell_type": "code",
   "execution_count": null,
   "id": "eaa8545a-4585-4e25-9801-89e8ab33714b",
   "metadata": {},
   "outputs": [],
   "source": []
  }
 ],
 "metadata": {
  "kernelspec": {
   "display_name": "Python 3 (ipykernel)",
   "language": "python",
   "name": "python3"
  },
  "language_info": {
   "codemirror_mode": {
    "name": "ipython",
    "version": 3
   },
   "file_extension": ".py",
   "mimetype": "text/x-python",
   "name": "python",
   "nbconvert_exporter": "python",
   "pygments_lexer": "ipython3",
   "version": "3.9.7"
  }
 },
 "nbformat": 4,
 "nbformat_minor": 5
}
