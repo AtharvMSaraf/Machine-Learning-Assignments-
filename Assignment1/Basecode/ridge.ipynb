{
 "cells": [
  {
   "cell_type": "code",
   "execution_count": 2,
   "id": "d2e1031c-8df0-4090-a0ea-1a726a5d15de",
   "metadata": {},
   "outputs": [],
   "source": [
    "import numpy as np\n",
    "from scipy.optimize import minimize\n",
    "from scipy.io import loadmat\n",
    "from numpy.linalg import det, inv\n",
    "from math import sqrt, pi\n",
    "import scipy.io\n",
    "import matplotlib.pyplot as plt\n",
    "import pickle\n",
    "import sys"
   ]
  },
  {
   "cell_type": "code",
   "execution_count": 3,
   "id": "59ac95a6-a99d-4d1b-bff1-77d1e0f061eb",
   "metadata": {},
   "outputs": [],
   "source": [
    "pickle_filename = \"sample.pickle\"\n",
    "with open(pickle_filename, 'rb') as file:  \n",
    "     X,y,Xtest,ytest = pickle.load(open('sample.pickle','rb'),encoding = 'latin1')"
   ]
  },
  {
   "cell_type": "code",
   "execution_count": 4,
   "id": "37e76384-e9c7-4bf1-b50a-9cfbb88dc49a",
   "metadata": {},
   "outputs": [],
   "source": [
    "# k = 101\n",
    "# lambdas = np.linspace(0, 1, num=k)\n",
    "lambd = 0\n",
    "\n",
    "w = np.matmul(inv(np.matmul(X.T, X) + np.multiply(lambd, np.identity(X.shape[1]))), np.matmul(X.T, y))\n",
    "\n",
    "x_size = X.shape[1]\n",
    "mse = np.matmul((y - np.matmul(X, w.reshape(x_size, 1))).T, (y - np.matmul(X, w.reshape(x_size, 1)))) + lambd * np.matmul(w.reshape(x_size,1).T, w.reshape(x_size,1))"
   ]
  },
  {
   "cell_type": "code",
   "execution_count": 33,
   "id": "df872154-493e-4b67-8282-ea245d1ba329",
   "metadata": {},
   "outputs": [
    {
     "data": {
      "text/plain": [
       "array([[66.54925289]])"
      ]
     },
     "execution_count": 33,
     "metadata": {},
     "output_type": "execute_result"
    }
   ],
   "source": [
    "mse"
   ]
  },
  {
   "cell_type": "code",
   "execution_count": 5,
   "id": "9d43f5bb-0141-412b-bc39-dec769ebb6e4",
   "metadata": {},
   "outputs": [
    {
     "data": {
      "text/plain": [
       "array([[0.28005155],\n",
       "       [0.13375881]])"
      ]
     },
     "execution_count": 5,
     "metadata": {},
     "output_type": "execute_result"
    }
   ],
   "source": [
    "w"
   ]
  },
  {
   "cell_type": "code",
   "execution_count": null,
   "id": "b8a9495d-0fe3-4945-a24a-c7b29de59388",
   "metadata": {},
   "outputs": [],
   "source": []
  }
 ],
 "metadata": {
  "kernelspec": {
   "display_name": "Python 3 (ipykernel)",
   "language": "python",
   "name": "python3"
  },
  "language_info": {
   "codemirror_mode": {
    "name": "ipython",
    "version": 3
   },
   "file_extension": ".py",
   "mimetype": "text/x-python",
   "name": "python",
   "nbconvert_exporter": "python",
   "pygments_lexer": "ipython3",
   "version": "3.9.7"
  }
 },
 "nbformat": 4,
 "nbformat_minor": 5
}
