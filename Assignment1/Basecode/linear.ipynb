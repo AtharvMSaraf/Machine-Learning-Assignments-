{
 "cells": [
  {
   "cell_type": "code",
   "execution_count": 2,
   "id": "cdd30b65-ba16-4d87-9b46-7f947e24ff81",
   "metadata": {},
   "outputs": [],
   "source": [
    "import numpy as np\n",
    "from scipy.optimize import minimize\n",
    "from scipy.io import loadmat\n",
    "from numpy.linalg import det, inv\n",
    "from math import sqrt, pi\n",
    "import scipy.io\n",
    "import matplotlib.pyplot as plt\n",
    "import pickle\n",
    "import sys"
   ]
  },
  {
   "cell_type": "code",
   "execution_count": 3,
   "id": "912e3e70-77d2-4ae8-a3cc-411cf333e6ce",
   "metadata": {},
   "outputs": [],
   "source": [
    "pickle_filename = \"sample.pickle\"\n",
    "with open(pickle_filename, 'rb') as file:  \n",
    "     X,y,Xtest,ytest = pickle.load(open('sample.pickle','rb'),encoding = 'latin1')"
   ]
  },
  {
   "cell_type": "code",
   "execution_count": 4,
   "id": "879a3d07-ca2b-4041-ba2c-1aa00f68c55e",
   "metadata": {},
   "outputs": [],
   "source": [
    "w = np.dot(inv(np.dot(X.T, X)), np.dot(X.T, y))\n",
    "\n",
    "mse = 1/len(X) * np.dot((y - np.dot(X, w)).T, (y - np.dot(X, w)))"
   ]
  },
  {
   "cell_type": "code",
   "execution_count": 6,
   "id": "43aed8f1-6694-4183-9ee1-13089742ecf3",
   "metadata": {},
   "outputs": [
    {
     "data": {
      "text/plain": [
       "(2, 1)"
      ]
     },
     "execution_count": 6,
     "metadata": {},
     "output_type": "execute_result"
    }
   ],
   "source": [
    "w.shape"
   ]
  },
  {
   "cell_type": "code",
   "execution_count": 9,
   "id": "466b66a9-e7b1-4ddd-b02f-be3cd070cbc1",
   "metadata": {},
   "outputs": [],
   "source": [
    "error = y - np.matmul(X, w)"
   ]
  },
  {
   "cell_type": "code",
   "execution_count": 7,
   "id": "6385291f-25e1-4e0a-bb51-4106a3f42bfe",
   "metadata": {},
   "outputs": [
    {
     "data": {
      "text/plain": [
       "(64, 1)"
      ]
     },
     "execution_count": 7,
     "metadata": {},
     "output_type": "execute_result"
    }
   ],
   "source": [
    "w.shape"
   ]
  },
  {
   "cell_type": "code",
   "execution_count": 10,
   "id": "3e3575ed-d2dd-4a2e-8a88-76c10631f824",
   "metadata": {},
   "outputs": [
    {
     "data": {
      "text/plain": [
       "array([[19099.44684457]])"
      ]
     },
     "execution_count": 10,
     "metadata": {},
     "output_type": "execute_result"
    }
   ],
   "source": [
    "mse"
   ]
  },
  {
   "cell_type": "code",
   "execution_count": null,
   "id": "20024089-13ca-486f-ac95-efdaab224790",
   "metadata": {},
   "outputs": [],
   "source": []
  },
  {
   "cell_type": "code",
   "execution_count": null,
   "id": "9a995108-acef-430a-9b7e-31480782ca11",
   "metadata": {},
   "outputs": [],
   "source": []
  }
 ],
 "metadata": {
  "kernelspec": {
   "display_name": "Python 3 (ipykernel)",
   "language": "python",
   "name": "python3"
  },
  "language_info": {
   "codemirror_mode": {
    "name": "ipython",
    "version": 3
   },
   "file_extension": ".py",
   "mimetype": "text/x-python",
   "name": "python",
   "nbconvert_exporter": "python",
   "pygments_lexer": "ipython3",
   "version": "3.9.7"
  }
 },
 "nbformat": 4,
 "nbformat_minor": 5
}
