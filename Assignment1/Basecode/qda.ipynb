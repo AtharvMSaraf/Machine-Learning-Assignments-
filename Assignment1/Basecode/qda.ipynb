{
 "cells": [
  {
   "cell_type": "code",
   "execution_count": 1,
   "id": "17646234-c65d-4190-af8a-eac8853eda42",
   "metadata": {},
   "outputs": [],
   "source": [
    "import numpy as np\n",
    "from scipy.optimize import minimize\n",
    "from scipy.io import loadmat\n",
    "from numpy.linalg import det, inv\n",
    "from math import sqrt, pi\n",
    "import scipy.io\n",
    "import matplotlib.pyplot as plt\n",
    "import pickle\n",
    "import sys"
   ]
  },
  {
   "cell_type": "code",
   "execution_count": 2,
   "id": "1be735aa-80d2-44d6-a2db-4496effbcc2e",
   "metadata": {},
   "outputs": [],
   "source": [
    "pickle_filename = \"sample.pickle\"\n",
    "with open(pickle_filename, 'rb') as file:  \n",
    "     X,y,Xtest,ytest = pickle.load(open('sample.pickle','rb'),encoding = 'latin1')"
   ]
  },
  {
   "cell_type": "code",
   "execution_count": 3,
   "id": "ce404e2c-3d81-4854-8365-f6c7d8cdee88",
   "metadata": {},
   "outputs": [],
   "source": [
    "class_array = np.unique(y)\n",
    "features_len = X.shape[1]\n",
    "class_len = len(class_array)\n",
    "\n",
    "indices = []\n",
    "for i in range(class_len):\n",
    "    indices.append(np.where(y==class_array[i])[0])\n",
    "\n",
    "class_sum = []\n",
    "for i in indices:\n",
    "    total = 0;\n",
    "    for j in i:\n",
    "        total += X[j]\n",
    "    class_sum.append(total)\n",
    "\n",
    "lengths = []\n",
    "for i in indices:\n",
    "    lengths.append(len(i))\n",
    "\n",
    "\n",
    "means = np.ones((class_len, features_len))\n",
    "for i in range(X.shape[1]):\n",
    "    for j in range(5):    \n",
    "        means[j, i] = class_sum[j][i]/lengths[j]\n",
    "\n",
    "covmats = []\n",
    "for i in range(class_len):\n",
    "    mean_corrected_data = np.empty((len(indices[i]), features_len))\n",
    "    for index, j in enumerate(indices[i]):\n",
    "        mean_corrected_data[index] = X[j]- means[i]\n",
    "    covmats.append(np.matmul(np.transpose(mean_corrected_data), mean_corrected_data)/ len(mean_corrected_data))"
   ]
  },
  {
   "cell_type": "code",
   "execution_count": 4,
   "id": "4e470df1-acae-4f71-8a12-b1803bd8d7d3",
   "metadata": {},
   "outputs": [],
   "source": [
    "p = np.zeros((len(means), len(Xtest)))\n",
    "for i in range(len(Xtest)):\n",
    "    for j in range(len(means)):\n",
    "        p[j,i] = 1/(2*pi*sqrt(det(covmats[j]))) * np.exp((-0.5)* np.matmul(np.matmul(Xtest[i]-means[j], inv(covmats[j])), np.transpose(Xtest[i]-means[j])))\n",
    "ypred = np.argmax(p, axis = 0) + np.ones((len(Xtest),))\n",
    "\n",
    "true_true = 0.0;\n",
    "for i in range(len(ypred)):\n",
    "    if(ypred[i] == ytest[i]):\n",
    "        true_true += 1\n",
    "acc = true_true/len(ypred) * 100"
   ]
  },
  {
   "cell_type": "code",
   "execution_count": 5,
   "id": "3f3093ab-5cc2-477d-8a30-dac78b46e8f1",
   "metadata": {},
   "outputs": [
    {
     "data": {
      "text/plain": [
       "array([2., 2., 3., 4., 3., 2., 5., 4., 4., 4., 3., 5., 2., 2., 4., 1., 1.,\n",
       "       1., 5., 3., 5., 1., 4., 3., 5., 1., 1., 2., 5., 2., 5., 5., 3., 5.,\n",
       "       3., 4., 2., 3., 1., 2., 4., 5., 2., 1., 4., 4., 5., 3., 5., 5., 5.,\n",
       "       4., 1., 5., 4., 4., 1., 3., 3., 1., 1., 4., 5., 3., 5., 4., 2., 3.,\n",
       "       3., 3., 5., 2., 2., 1., 4., 4., 4., 1., 1., 4., 1., 3., 4., 5., 3.,\n",
       "       4., 3., 3., 3., 2., 5., 1., 5., 2., 5., 4., 4., 5., 5., 1.])"
      ]
     },
     "execution_count": 5,
     "metadata": {},
     "output_type": "execute_result"
    }
   ],
   "source": [
    "ypred"
   ]
  },
  {
   "cell_type": "code",
   "execution_count": 6,
   "id": "3d4835f8-6e06-4ff2-bb4e-04cb549b2d0e",
   "metadata": {},
   "outputs": [
    {
     "data": {
      "text/plain": [
       "96.0"
      ]
     },
     "execution_count": 6,
     "metadata": {},
     "output_type": "execute_result"
    }
   ],
   "source": [
    "acc"
   ]
  },
  {
   "cell_type": "code",
   "execution_count": null,
   "id": "90a23ef5-7854-4ebc-b850-a0d5eca83373",
   "metadata": {},
   "outputs": [],
   "source": []
  }
 ],
 "metadata": {
  "kernelspec": {
   "display_name": "Python 3 (ipykernel)",
   "language": "python",
   "name": "python3"
  },
  "language_info": {
   "codemirror_mode": {
    "name": "ipython",
    "version": 3
   },
   "file_extension": ".py",
   "mimetype": "text/x-python",
   "name": "python",
   "nbconvert_exporter": "python",
   "pygments_lexer": "ipython3",
   "version": "3.9.7"
  }
 },
 "nbformat": 4,
 "nbformat_minor": 5
}
