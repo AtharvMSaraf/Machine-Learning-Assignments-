{
 "cells": [
  {
   "cell_type": "code",
   "execution_count": 7,
   "id": "2f91166c-a2f2-4f65-800b-24ae0b3242cf",
   "metadata": {
    "tags": []
   },
   "outputs": [],
   "source": [
    "import numpy as np\n",
    "from scipy.optimize import minimize\n",
    "from scipy.io import loadmat\n",
    "from numpy.linalg import det, inv\n",
    "from math import sqrt, pi\n",
    "import scipy.io\n",
    "import matplotlib.pyplot as plt\n",
    "import pickle\n",
    "import sys"
   ]
  },
  {
   "cell_type": "code",
   "execution_count": 8,
   "id": "4cf0b8ac-1329-479a-bdb9-e4f171560151",
   "metadata": {
    "tags": []
   },
   "outputs": [],
   "source": [
    "pickle_filename = \"sample.pickle\"\n",
    "with open(pickle_filename, 'rb') as file:  \n",
    "     X,y,Xtest,ytest = pickle.load(open('sample.pickle','rb'),encoding = 'latin1')"
   ]
  },
  {
   "cell_type": "code",
   "execution_count": 13,
   "id": "a4ff2cfe-796d-4699-9656-5d27325744eb",
   "metadata": {},
   "outputs": [],
   "source": [
    "class_array = np.unique(y)\n",
    "features_len = X.shape[1]\n",
    "class_len = len(class_array)\n",
    "\n",
    "indices = []\n",
    "for i in range(class_len):\n",
    "    indices.append(np.where(y==class_array[i])[0])\n",
    "\n",
    "class_sum = []\n",
    "for i in indices:\n",
    "    total = 0;\n",
    "    for j in i:\n",
    "        total += X[j]\n",
    "    class_sum.append(total)\n",
    "\n",
    "lengths = []\n",
    "for i in indices:\n",
    "    lengths.append(len(i))\n",
    "\n",
    "\n",
    "means = np.ones((class_len, features_len))\n",
    "for i in range(X.shape[1]):\n",
    "    for j in range(5):    \n",
    "        means[j, i] = class_sum[j][i]/lengths[j]\n",
    "\n",
    "#sub groups - global mean (mean corrected data):\n",
    "globalMean= [np.mean(X[:, 0]), np.mean(X[:, 1])]\n",
    "\n",
    "n = []\n",
    "c_k = []\n",
    "for i in range(class_len):\n",
    "    n.append(len(indices[i])/len(X))\n",
    "    mean_corrected_data = np.empty((len(indices[i]), features_len))\n",
    "    for index, j in enumerate(indices[i]):\n",
    "        mean_corrected_data[index] = X[j]-globalMean\n",
    "    c_k.append(np.matmul(np.transpose(mean_corrected_data), mean_corrected_data)/ len(mean_corrected_data))\n",
    "\n",
    "covmat = np.zeros((features_len, features_len))\n",
    "for i in range(0, features_len):\n",
    "    for j  in range(0, features_len):\n",
    "        for k in range(class_len):\n",
    "            covmat[i,j] += n[k]*c_k[k][i,j]\n"
   ]
  },
  {
   "cell_type": "code",
   "execution_count": 14,
   "id": "20ef986a-d17e-4bec-aabe-f304217f02ab",
   "metadata": {},
   "outputs": [],
   "source": [
    "f = np.zeros((len(means), len(Xtest)))\n",
    "for i in range(len(means)):\n",
    "    f[i] = np.matmul(means[i], np.matmul(inv(covmat),np.transpose(Xtest)))- 0.5*np.matmul(means[i], np.matmul(inv(covmat), np.transpose(means[i])))\n",
    "ypred = np.argmax(f, axis = 0) + np.ones((len(Xtest),))\n",
    "\n",
    "#accuracy formula \n",
    "true_true = 0.0;\n",
    "for i in range(len(ypred)):\n",
    "    if(ypred[i] == ytest[i]):\n",
    "        true_true += 1\n",
    "acc = true_true/len(ypred) * 100"
   ]
  },
  {
   "cell_type": "code",
   "execution_count": 15,
   "id": "deb23127-b9af-4b5b-a509-eff8d94c3a62",
   "metadata": {},
   "outputs": [
    {
     "data": {
      "text/plain": [
       "array([2., 2., 3., 4., 3., 2., 5., 4., 4., 4., 3., 5., 2., 2., 4., 1., 1.,\n",
       "       1., 5., 3., 5., 1., 4., 3., 5., 1., 1., 2., 5., 2., 5., 5., 3., 5.,\n",
       "       3., 4., 2., 3., 1., 2., 4., 5., 1., 1., 4., 4., 5., 3., 5., 5., 5.,\n",
       "       4., 1., 5., 4., 4., 1., 3., 3., 1., 1., 4., 5., 3., 5., 4., 2., 3.,\n",
       "       3., 3., 5., 2., 2., 1., 4., 4., 4., 1., 1., 4., 1., 3., 4., 5., 3.,\n",
       "       4., 3., 3., 3., 2., 5., 1., 5., 2., 5., 4., 4., 5., 5., 1.])"
      ]
     },
     "execution_count": 15,
     "metadata": {},
     "output_type": "execute_result"
    }
   ],
   "source": [
    "ypred"
   ]
  },
  {
   "cell_type": "code",
   "execution_count": 16,
   "id": "a52af98b-a7fd-4fd8-b629-a6a59799b7f0",
   "metadata": {},
   "outputs": [
    {
     "data": {
      "text/plain": [
       "97.0"
      ]
     },
     "execution_count": 16,
     "metadata": {},
     "output_type": "execute_result"
    }
   ],
   "source": [
    "acc"
   ]
  },
  {
   "cell_type": "code",
   "execution_count": null,
   "id": "117fabda-53f8-4b82-90ae-64a8a49edd13",
   "metadata": {},
   "outputs": [],
   "source": []
  }
 ],
 "metadata": {
  "kernelspec": {
   "display_name": "Python 3 (ipykernel)",
   "language": "python",
   "name": "python3"
  },
  "language_info": {
   "codemirror_mode": {
    "name": "ipython",
    "version": 3
   },
   "file_extension": ".py",
   "mimetype": "text/x-python",
   "name": "python",
   "nbconvert_exporter": "python",
   "pygments_lexer": "ipython3",
   "version": "3.9.7"
  }
 },
 "nbformat": 4,
 "nbformat_minor": 5
}
